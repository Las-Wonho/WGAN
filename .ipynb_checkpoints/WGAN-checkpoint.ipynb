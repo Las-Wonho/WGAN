{
 "cells": [
  {
   "cell_type": "code",
   "execution_count": 1,
   "metadata": {},
   "outputs": [
    {
     "name": "stderr",
     "output_type": "stream",
     "text": [
      "C:\\Users\\haho6\\Anaconda3\\lib\\site-packages\\h5py\\__init__.py:36: FutureWarning: Conversion of the second argument of issubdtype from `float` to `np.floating` is deprecated. In future, it will be treated as `np.float64 == np.dtype(float).type`.\n",
      "  from ._conv import register_converters as _register_converters\n"
     ]
    }
   ],
   "source": [
    "import tensorflow as tf\n",
    "import numpy as np\n",
    "import matplotlib.pyplot as plt\n",
    "import matplotlib.gridspec as gridspec\n",
    "import os"
   ]
  },
  {
   "cell_type": "code",
   "execution_count": 2,
   "metadata": {},
   "outputs": [
    {
     "name": "stderr",
     "output_type": "stream",
     "text": [
      "Using TensorFlow backend.\n"
     ]
    }
   ],
   "source": [
    "from keras.preprocessing.image import load_img, img_to_array\n",
    "images = []\n",
    "for i in range(470):\n",
    "    image = load_img('./DATA/'+str(i)+'.jpeg',target_size=(64,64))\n",
    "    image = img_to_array(image)\n",
    "    image.shape\n",
    "    image = image / 256\n",
    "    images.append(image-0.5)\n",
    "    \n",
    "    \n",
    "images = np.array(images)"
   ]
  },
  {
   "cell_type": "code",
   "execution_count": null,
   "metadata": {},
   "outputs": [],
   "source": []
  },
  {
   "cell_type": "code",
   "execution_count": 3,
   "metadata": {},
   "outputs": [],
   "source": [
    "\n",
    "def sample_z(m, n):\n",
    "    return np.random.uniform(-1., 1., size=[m, n])"
   ]
  },
  {
   "cell_type": "code",
   "execution_count": 4,
   "metadata": {},
   "outputs": [],
   "source": [
    "X = tf.placeholder(tf.float32, shape=[None, 64 , 64 , 3])"
   ]
  },
  {
   "cell_type": "code",
   "execution_count": 5,
   "metadata": {},
   "outputs": [],
   "source": [
    "W1 = tf.Variable(tf.random_normal([3,3,3,32],stddev=0.02))\n",
    "W2 = tf.Variable(tf.random_normal([3,3,32,64],stddev=0.02))\n",
    "W3 = tf.Variable(tf.random_normal([3,3,64,256],stddev=0.02))\n",
    "theta_D = [W1,W2,W3]\n",
    "\n",
    "def discriminaster(inputs):\n",
    "    \n",
    "    H1 = tf.nn.conv2d(inputs,W1, strides=[1,2,2,1], padding=\"SAME\")\n",
    "    H1 = tf.layers.batch_normalization(H1)\n",
    "    H1 = tf.nn.relu(H1)\n",
    "\n",
    "\n",
    "    H2 = tf.nn.conv2d(H1,W2, strides=[1,2,2,1], padding=\"SAME\")\n",
    "    H2 = tf.nn.relu(H2)\n",
    "\n",
    "\n",
    "    H3 = tf.nn.conv2d(H2,W3, strides=[1,2,2,1], padding=\"SAME\")\n",
    "    H3 = tf.nn.relu(H3)\n",
    "\n",
    "    out = tf.reshape(H3,[-1,16384])\n",
    "    out = tf.layers.dense(out,1)\n",
    "    return out"
   ]
  },
  {
   "cell_type": "code",
   "execution_count": 6,
   "metadata": {},
   "outputs": [
    {
     "name": "stdout",
     "output_type": "stream",
     "text": [
      "Tensor(\"dense/BiasAdd:0\", shape=(?, 1), dtype=float32)\n",
      "\n",
      "[<tf.Variable 'Variable:0' shape=(3, 3, 3, 32) dtype=float32_ref>, <tf.Variable 'Variable_1:0' shape=(3, 3, 32, 64) dtype=float32_ref>, <tf.Variable 'Variable_2:0' shape=(3, 3, 64, 256) dtype=float32_ref>]\n"
     ]
    }
   ],
   "source": [
    "print(discriminaster(X))\n",
    "print()\n",
    "print(theta_D)"
   ]
  },
  {
   "cell_type": "code",
   "execution_count": 7,
   "metadata": {},
   "outputs": [],
   "source": [
    "Z = tf.placeholder(tf.float32, shape=[None, 50])"
   ]
  },
  {
   "cell_type": "code",
   "execution_count": 8,
   "metadata": {},
   "outputs": [],
   "source": [
    "G_W1 = tf.Variable(tf.random_normal([50, 4*4*1024]))\n",
    "G_W2 = tf.Variable(tf.random_normal([8, 8, 512, 1024]))\n",
    "G_W3 = tf.Variable(tf.random_normal([16, 16, 256, 512]))\n",
    "G_W4 = tf.Variable(tf.random_normal([32, 32, 128, 256]))\n",
    "G_W5 = tf.Variable(tf.random_normal([64, 64, 3, 128]))\n",
    "\n",
    "theta_G = [G_W1, G_W2, G_W3, G_W4]\n",
    "def generate(Z):\n",
    "    \n",
    "    H0 = tf.nn.relu(tf.matmul(Z,G_W1))\n",
    "    H0 = tf.reshape(H0,[-1,4,4,1024])\n",
    "    #\n",
    "    H1 = tf.nn.conv2d_transpose(H0,strides=[1,2,2,1],filter=G_W2\n",
    "                                ,output_shape=(5,8,8,512), padding=\"SAME\")\n",
    "    H1 = tf.nn.relu(H1)\n",
    "    #\n",
    "    H2 = tf.nn.conv2d_transpose(H1,strides=[1,2,2,1],filter=G_W3\n",
    "                                ,output_shape=(5,16,16,256), padding=\"SAME\")\n",
    "    H2 = tf.nn.relu(H2)\n",
    "    #\n",
    "    H3 = tf.nn.conv2d_transpose(H2,strides=[1,2,2,1],filter=G_W4\n",
    "                                ,output_shape=(5,32,32,128), padding=\"SAME\")\n",
    "    H3 = tf.nn.tanh(H3)\n",
    "    #\n",
    "    H4 = tf.nn.conv2d_transpose(H3,strides=[1,2,2,1],filter=G_W5\n",
    "                                ,output_shape=(5,64,64,3), padding=\"SAME\")\n",
    "    #\n",
    "    \n",
    "    return H4"
   ]
  },
  {
   "cell_type": "code",
   "execution_count": 9,
   "metadata": {},
   "outputs": [
    {
     "data": {
      "text/plain": [
       "<tf.Tensor 'conv2d_transpose_3:0' shape=(5, 64, 64, 3) dtype=float32>"
      ]
     },
     "execution_count": 9,
     "metadata": {},
     "output_type": "execute_result"
    }
   ],
   "source": [
    "generate(Z)"
   ]
  },
  {
   "cell_type": "code",
   "execution_count": 10,
   "metadata": {
    "scrolled": true
   },
   "outputs": [],
   "source": [
    "G_sample = generate(Z)\n",
    "D_real = discriminaster(X)\n",
    "D_fake = discriminaster(G_sample)"
   ]
  },
  {
   "cell_type": "code",
   "execution_count": 11,
   "metadata": {},
   "outputs": [],
   "source": [
    "D_loss = tf.reduce_mean(D_real) - tf.reduce_mean(D_fake)\n",
    "G_loss = -tf.reduce_mean(D_fake)\n",
    "\n",
    "D_solver = (tf.train.RMSPropOptimizer(learning_rate=0.01)\n",
    "            .minimize(-D_loss, var_list=theta_D))\n",
    "G_solver = (tf.train.RMSPropOptimizer(learning_rate=0.01)\n",
    "            .minimize(G_loss, var_list=theta_G))"
   ]
  },
  {
   "cell_type": "code",
   "execution_count": 12,
   "metadata": {},
   "outputs": [],
   "source": [
    "clip_D = [p.assign(tf.clip_by_value(p, -0.01, 0.01)) for p in theta_D]"
   ]
  },
  {
   "cell_type": "code",
   "execution_count": 13,
   "metadata": {},
   "outputs": [],
   "source": [
    "sess = tf.Session()\n",
    "sess.run(tf.global_variables_initializer())"
   ]
  },
  {
   "cell_type": "code",
   "execution_count": 141,
   "metadata": {
    "scrolled": true
   },
   "outputs": [
    {
     "data": {
      "text/plain": [
       "array([[[[7.72788544e+08, 4.23117760e+08, 2.31649328e+08],\n",
       "         [0.00000000e+00, 0.00000000e+00, 7.14531840e+08],\n",
       "         [0.00000000e+00, 0.00000000e+00, 3.05075424e+08],\n",
       "         ...,\n",
       "         [0.00000000e+00, 3.46659552e+08, 0.00000000e+00],\n",
       "         [4.34801536e+08, 0.00000000e+00, 0.00000000e+00],\n",
       "         [0.00000000e+00, 0.00000000e+00, 0.00000000e+00]],\n",
       "\n",
       "        [[3.56726304e+08, 0.00000000e+00, 3.31549632e+08],\n",
       "         [0.00000000e+00, 1.28744144e+08, 0.00000000e+00],\n",
       "         [0.00000000e+00, 0.00000000e+00, 4.58930400e+08],\n",
       "         ...,\n",
       "         [0.00000000e+00, 6.29045280e+07, 5.43911744e+08],\n",
       "         [0.00000000e+00, 9.42445696e+08, 0.00000000e+00],\n",
       "         [3.93260704e+08, 3.78018816e+08, 1.04743912e+08]],\n",
       "\n",
       "        [[3.69661160e+07, 0.00000000e+00, 4.03493248e+08],\n",
       "         [0.00000000e+00, 0.00000000e+00, 2.16036720e+08],\n",
       "         [0.00000000e+00, 0.00000000e+00, 0.00000000e+00],\n",
       "         ...,\n",
       "         [0.00000000e+00, 3.44933376e+08, 0.00000000e+00],\n",
       "         [0.00000000e+00, 0.00000000e+00, 0.00000000e+00],\n",
       "         [4.25310752e+08, 0.00000000e+00, 4.58170368e+08]],\n",
       "\n",
       "        ...,\n",
       "\n",
       "        [[6.87762432e+08, 0.00000000e+00, 7.66225664e+08],\n",
       "         [4.39803136e+08, 1.31996976e+08, 0.00000000e+00],\n",
       "         [6.45046464e+08, 0.00000000e+00, 1.94161504e+08],\n",
       "         ...,\n",
       "         [5.35145888e+08, 4.69050976e+08, 0.00000000e+00],\n",
       "         [2.00818368e+08, 8.99647360e+07, 0.00000000e+00],\n",
       "         [6.68434816e+08, 2.17704576e+08, 0.00000000e+00]],\n",
       "\n",
       "        [[0.00000000e+00, 0.00000000e+00, 0.00000000e+00],\n",
       "         [0.00000000e+00, 8.42030880e+07, 8.41532800e+06],\n",
       "         [0.00000000e+00, 0.00000000e+00, 0.00000000e+00],\n",
       "         ...,\n",
       "         [0.00000000e+00, 0.00000000e+00, 0.00000000e+00],\n",
       "         [1.50162192e+08, 3.62210200e+07, 6.23936000e+08],\n",
       "         [1.76422400e+08, 1.56127580e+07, 5.51488832e+08]],\n",
       "\n",
       "        [[2.55498624e+08, 0.00000000e+00, 3.82430112e+08],\n",
       "         [4.71900544e+08, 2.34906560e+08, 0.00000000e+00],\n",
       "         [8.61139136e+08, 0.00000000e+00, 5.70139136e+08],\n",
       "         ...,\n",
       "         [5.82283904e+08, 3.51473216e+08, 0.00000000e+00],\n",
       "         [5.23973024e+08, 0.00000000e+00, 0.00000000e+00],\n",
       "         [0.00000000e+00, 0.00000000e+00, 2.82674540e+07]]],\n",
       "\n",
       "\n",
       "       [[[6.65695808e+08, 5.04180672e+08, 1.23832928e+08],\n",
       "         [0.00000000e+00, 4.76718600e+06, 8.15132160e+08],\n",
       "         [0.00000000e+00, 2.16384288e+08, 0.00000000e+00],\n",
       "         ...,\n",
       "         [1.39041456e+08, 2.86253952e+08, 1.27486456e+08],\n",
       "         [0.00000000e+00, 0.00000000e+00, 0.00000000e+00],\n",
       "         [2.01883744e+08, 2.71652960e+08, 0.00000000e+00]],\n",
       "\n",
       "        [[0.00000000e+00, 1.76314080e+08, 5.60722432e+08],\n",
       "         [0.00000000e+00, 0.00000000e+00, 0.00000000e+00],\n",
       "         [6.16600064e+08, 0.00000000e+00, 7.54086592e+08],\n",
       "         ...,\n",
       "         [0.00000000e+00, 7.68063104e+08, 3.04562752e+08],\n",
       "         [0.00000000e+00, 6.82740160e+08, 0.00000000e+00],\n",
       "         [6.09827264e+08, 6.40139584e+08, 0.00000000e+00]],\n",
       "\n",
       "        [[3.46382976e+08, 0.00000000e+00, 1.18270872e+08],\n",
       "         [0.00000000e+00, 8.00178880e+07, 2.65276944e+08],\n",
       "         [0.00000000e+00, 0.00000000e+00, 2.64322912e+08],\n",
       "         ...,\n",
       "         [0.00000000e+00, 1.56963856e+08, 2.07987056e+08],\n",
       "         [0.00000000e+00, 0.00000000e+00, 0.00000000e+00],\n",
       "         [4.09854560e+08, 3.02618048e+08, 2.23066000e+08]],\n",
       "\n",
       "        ...,\n",
       "\n",
       "        [[1.44495718e+09, 0.00000000e+00, 4.72636608e+08],\n",
       "         [8.21181248e+08, 3.13081504e+08, 0.00000000e+00],\n",
       "         [4.53815584e+08, 0.00000000e+00, 7.35767040e+08],\n",
       "         ...,\n",
       "         [1.26895501e+09, 9.26542144e+08, 0.00000000e+00],\n",
       "         [0.00000000e+00, 5.48715200e+06, 0.00000000e+00],\n",
       "         [2.48571120e+07, 0.00000000e+00, 0.00000000e+00]],\n",
       "\n",
       "        [[5.17276720e+07, 0.00000000e+00, 0.00000000e+00],\n",
       "         [8.01878080e+08, 4.68025568e+08, 0.00000000e+00],\n",
       "         [0.00000000e+00, 0.00000000e+00, 0.00000000e+00],\n",
       "         ...,\n",
       "         [0.00000000e+00, 0.00000000e+00, 0.00000000e+00],\n",
       "         [0.00000000e+00, 0.00000000e+00, 0.00000000e+00],\n",
       "         [3.77032768e+08, 3.67774208e+08, 6.57446528e+08]],\n",
       "\n",
       "        [[2.37553696e+08, 0.00000000e+00, 1.18112448e+08],\n",
       "         [5.41825664e+08, 0.00000000e+00, 0.00000000e+00],\n",
       "         [4.33896736e+08, 3.19140704e+08, 3.69662208e+08],\n",
       "         ...,\n",
       "         [1.10542298e+09, 1.02852960e+09, 0.00000000e+00],\n",
       "         [1.05781869e+09, 0.00000000e+00, 0.00000000e+00],\n",
       "         [5.32340544e+08, 4.46283584e+08, 0.00000000e+00]]],\n",
       "\n",
       "\n",
       "       [[[3.54102016e+08, 3.10059200e+08, 1.43113552e+08],\n",
       "         [0.00000000e+00, 0.00000000e+00, 4.49357728e+08],\n",
       "         [0.00000000e+00, 0.00000000e+00, 0.00000000e+00],\n",
       "         ...,\n",
       "         [2.28977648e+08, 2.99180992e+08, 1.33166100e+07],\n",
       "         [5.53176880e+07, 2.08487616e+08, 0.00000000e+00],\n",
       "         [1.16279280e+08, 0.00000000e+00, 6.24978880e+08]],\n",
       "\n",
       "        [[2.25121664e+08, 0.00000000e+00, 8.80134080e+07],\n",
       "         [0.00000000e+00, 1.08129200e+08, 0.00000000e+00],\n",
       "         [0.00000000e+00, 0.00000000e+00, 2.36602912e+08],\n",
       "         ...,\n",
       "         [2.77310624e+08, 4.19852800e+08, 6.36473856e+08],\n",
       "         [0.00000000e+00, 8.04814848e+08, 0.00000000e+00],\n",
       "         [0.00000000e+00, 1.31955280e+08, 0.00000000e+00]],\n",
       "\n",
       "        [[4.36966208e+08, 0.00000000e+00, 5.92548416e+08],\n",
       "         [0.00000000e+00, 0.00000000e+00, 1.55217408e+08],\n",
       "         [2.73834944e+08, 5.20604448e+08, 3.79764224e+08],\n",
       "         ...,\n",
       "         [0.00000000e+00, 1.73479312e+08, 2.24533040e+07],\n",
       "         [0.00000000e+00, 0.00000000e+00, 4.06053888e+08],\n",
       "         [3.54384896e+08, 0.00000000e+00, 1.16994176e+08]],\n",
       "\n",
       "        ...,\n",
       "\n",
       "        [[4.50038272e+08, 0.00000000e+00, 3.33354496e+08],\n",
       "         [5.14332480e+07, 5.17553536e+08, 0.00000000e+00],\n",
       "         [1.53848336e+08, 9.44222640e+07, 4.77444256e+08],\n",
       "         ...,\n",
       "         [8.57264448e+08, 3.97671616e+08, 0.00000000e+00],\n",
       "         [3.78422040e+07, 1.49738336e+08, 0.00000000e+00],\n",
       "         [8.31750784e+08, 0.00000000e+00, 0.00000000e+00]],\n",
       "\n",
       "        [[0.00000000e+00, 9.65133680e+07, 0.00000000e+00],\n",
       "         [0.00000000e+00, 1.51810592e+08, 8.79135040e+07],\n",
       "         [0.00000000e+00, 0.00000000e+00, 0.00000000e+00],\n",
       "         ...,\n",
       "         [0.00000000e+00, 0.00000000e+00, 0.00000000e+00],\n",
       "         [0.00000000e+00, 0.00000000e+00, 7.26986176e+08],\n",
       "         [4.02826880e+08, 0.00000000e+00, 2.49449248e+08]],\n",
       "\n",
       "        [[1.29160848e+08, 0.00000000e+00, 4.49611488e+08],\n",
       "         [4.51867360e+08, 2.86552640e+08, 0.00000000e+00],\n",
       "         [5.41537472e+08, 0.00000000e+00, 3.12936672e+08],\n",
       "         ...,\n",
       "         [1.05386131e+09, 3.76172352e+08, 0.00000000e+00],\n",
       "         [8.76338000e+07, 0.00000000e+00, 0.00000000e+00],\n",
       "         [4.79675936e+08, 0.00000000e+00, 1.22378616e+08]]],\n",
       "\n",
       "\n",
       "       ...,\n",
       "\n",
       "\n",
       "       [[[3.65163776e+08, 3.87655392e+08, 2.23210896e+08],\n",
       "         [0.00000000e+00, 0.00000000e+00, 7.16236864e+08],\n",
       "         [0.00000000e+00, 0.00000000e+00, 0.00000000e+00],\n",
       "         ...,\n",
       "         [4.16902112e+08, 2.95825664e+08, 7.40338176e+08],\n",
       "         [5.32193632e+08, 0.00000000e+00, 0.00000000e+00],\n",
       "         [3.80131168e+08, 0.00000000e+00, 3.49404192e+08]],\n",
       "\n",
       "        [[7.07700608e+08, 0.00000000e+00, 2.22631200e+08],\n",
       "         [0.00000000e+00, 6.53527440e+07, 0.00000000e+00],\n",
       "         [0.00000000e+00, 0.00000000e+00, 5.41359616e+08],\n",
       "         ...,\n",
       "         [0.00000000e+00, 1.12669840e+08, 7.46973440e+08],\n",
       "         [0.00000000e+00, 2.84566688e+08, 0.00000000e+00],\n",
       "         [1.66538640e+08, 4.44978432e+08, 3.68785000e+07]],\n",
       "\n",
       "        [[9.52877600e+06, 0.00000000e+00, 0.00000000e+00],\n",
       "         [0.00000000e+00, 2.67715520e+08, 2.31552288e+08],\n",
       "         [0.00000000e+00, 2.47929952e+08, 2.18584512e+08],\n",
       "         ...,\n",
       "         [0.00000000e+00, 5.60819520e+08, 4.34844928e+08],\n",
       "         [0.00000000e+00, 0.00000000e+00, 2.13533024e+08],\n",
       "         [2.85752384e+08, 2.21095072e+08, 0.00000000e+00]],\n",
       "\n",
       "        ...,\n",
       "\n",
       "        [[7.68194432e+08, 0.00000000e+00, 6.48621376e+08],\n",
       "         [1.01900653e+09, 2.83674816e+08, 0.00000000e+00],\n",
       "         [1.35433664e+08, 0.00000000e+00, 9.82485056e+08],\n",
       "         ...,\n",
       "         [7.61129216e+08, 1.09100710e+09, 0.00000000e+00],\n",
       "         [2.69820704e+08, 4.83951232e+08, 0.00000000e+00],\n",
       "         [6.67055360e+08, 0.00000000e+00, 0.00000000e+00]],\n",
       "\n",
       "        [[0.00000000e+00, 0.00000000e+00, 0.00000000e+00],\n",
       "         [3.53617408e+08, 6.80814720e+08, 0.00000000e+00],\n",
       "         [0.00000000e+00, 0.00000000e+00, 0.00000000e+00],\n",
       "         ...,\n",
       "         [0.00000000e+00, 0.00000000e+00, 0.00000000e+00],\n",
       "         [0.00000000e+00, 2.50812112e+08, 2.19427600e+07],\n",
       "         [6.70439936e+08, 1.69801952e+08, 4.11343392e+08]],\n",
       "\n",
       "        [[0.00000000e+00, 0.00000000e+00, 0.00000000e+00],\n",
       "         [4.77995200e+08, 2.96144736e+08, 0.00000000e+00],\n",
       "         [5.82135744e+08, 2.02281072e+08, 5.61977040e+07],\n",
       "         ...,\n",
       "         [1.33538714e+09, 7.09365120e+08, 0.00000000e+00],\n",
       "         [2.63874656e+08, 0.00000000e+00, 0.00000000e+00],\n",
       "         [1.05213792e+09, 0.00000000e+00, 0.00000000e+00]]],\n",
       "\n",
       "\n",
       "       [[[3.81098464e+08, 0.00000000e+00, 0.00000000e+00],\n",
       "         [0.00000000e+00, 0.00000000e+00, 7.32364800e+08],\n",
       "         [0.00000000e+00, 0.00000000e+00, 2.01436080e+07],\n",
       "         ...,\n",
       "         [7.06037824e+08, 4.04344992e+08, 0.00000000e+00],\n",
       "         [4.81741120e+08, 0.00000000e+00, 0.00000000e+00],\n",
       "         [2.44499840e+08, 0.00000000e+00, 3.43134336e+08]],\n",
       "\n",
       "        [[2.46244112e+08, 0.00000000e+00, 1.07139046e+09],\n",
       "         [0.00000000e+00, 0.00000000e+00, 0.00000000e+00],\n",
       "         [3.39747200e+08, 0.00000000e+00, 1.14136008e+08],\n",
       "         ...,\n",
       "         [0.00000000e+00, 3.74527392e+08, 2.11749376e+08],\n",
       "         [0.00000000e+00, 1.16487782e+09, 0.00000000e+00],\n",
       "         [4.11071776e+08, 0.00000000e+00, 1.59954384e+08]],\n",
       "\n",
       "        [[6.20011920e+07, 0.00000000e+00, 1.91308544e+08],\n",
       "         [0.00000000e+00, 0.00000000e+00, 3.77121184e+08],\n",
       "         [0.00000000e+00, 0.00000000e+00, 4.50073088e+08],\n",
       "         ...,\n",
       "         [0.00000000e+00, 5.13318144e+08, 9.62515600e+07],\n",
       "         [0.00000000e+00, 0.00000000e+00, 0.00000000e+00],\n",
       "         [4.16043000e+05, 0.00000000e+00, 3.98188672e+08]],\n",
       "\n",
       "        ...,\n",
       "\n",
       "        [[3.85416480e+08, 0.00000000e+00, 1.17075366e+09],\n",
       "         [0.00000000e+00, 5.44882920e+07, 0.00000000e+00],\n",
       "         [4.58436704e+08, 0.00000000e+00, 2.61706480e+08],\n",
       "         ...,\n",
       "         [1.89068640e+08, 7.59007936e+08, 0.00000000e+00],\n",
       "         [0.00000000e+00, 1.69920032e+08, 0.00000000e+00],\n",
       "         [3.70300800e+08, 6.85013568e+08, 0.00000000e+00]],\n",
       "\n",
       "        [[0.00000000e+00, 0.00000000e+00, 2.30336896e+08],\n",
       "         [2.91278848e+08, 0.00000000e+00, 0.00000000e+00],\n",
       "         [0.00000000e+00, 0.00000000e+00, 0.00000000e+00],\n",
       "         ...,\n",
       "         [0.00000000e+00, 0.00000000e+00, 1.45652576e+08],\n",
       "         [0.00000000e+00, 0.00000000e+00, 0.00000000e+00],\n",
       "         [0.00000000e+00, 3.45175904e+08, 7.93306048e+08]],\n",
       "\n",
       "        [[0.00000000e+00, 0.00000000e+00, 4.92571136e+08],\n",
       "         [7.99191808e+08, 1.24643123e+09, 0.00000000e+00],\n",
       "         [3.13865856e+08, 2.31865648e+08, 0.00000000e+00],\n",
       "         ...,\n",
       "         [7.80760064e+08, 0.00000000e+00, 0.00000000e+00],\n",
       "         [1.02683635e+09, 0.00000000e+00, 0.00000000e+00],\n",
       "         [1.10550816e+08, 4.13282500e+06, 2.59092280e+07]]],\n",
       "\n",
       "\n",
       "       [[[7.21248320e+08, 1.90658336e+08, 0.00000000e+00],\n",
       "         [0.00000000e+00, 0.00000000e+00, 1.33720230e+09],\n",
       "         [0.00000000e+00, 0.00000000e+00, 2.88123104e+08],\n",
       "         ...,\n",
       "         [8.05946320e+07, 2.22380352e+08, 2.14294224e+08],\n",
       "         [0.00000000e+00, 2.87733700e+06, 0.00000000e+00],\n",
       "         [1.02333800e+08, 2.95120736e+08, 0.00000000e+00]],\n",
       "\n",
       "        [[6.32372608e+08, 0.00000000e+00, 0.00000000e+00],\n",
       "         [4.81358640e+07, 0.00000000e+00, 0.00000000e+00],\n",
       "         [0.00000000e+00, 0.00000000e+00, 6.79815040e+08],\n",
       "         ...,\n",
       "         [0.00000000e+00, 5.86345408e+08, 1.18140634e+09],\n",
       "         [0.00000000e+00, 9.32016320e+08, 0.00000000e+00],\n",
       "         [1.87509264e+08, 1.58277616e+08, 0.00000000e+00]],\n",
       "\n",
       "        [[3.76436960e+08, 0.00000000e+00, 6.45137920e+08],\n",
       "         [0.00000000e+00, 0.00000000e+00, 4.70662240e+08],\n",
       "         [0.00000000e+00, 1.92030800e+08, 4.10000704e+08],\n",
       "         ...,\n",
       "         [4.54121880e+07, 6.45874176e+08, 0.00000000e+00],\n",
       "         [0.00000000e+00, 0.00000000e+00, 0.00000000e+00],\n",
       "         [6.87825024e+08, 0.00000000e+00, 3.50982144e+08]],\n",
       "\n",
       "        ...,\n",
       "\n",
       "        [[8.73610816e+08, 0.00000000e+00, 9.99735296e+08],\n",
       "         [4.50726272e+08, 0.00000000e+00, 0.00000000e+00],\n",
       "         [3.38842688e+08, 0.00000000e+00, 7.12957376e+08],\n",
       "         ...,\n",
       "         [1.22626816e+09, 6.42679296e+08, 0.00000000e+00],\n",
       "         [2.07089168e+08, 0.00000000e+00, 0.00000000e+00],\n",
       "         [5.12408576e+08, 0.00000000e+00, 0.00000000e+00]],\n",
       "\n",
       "        [[1.84222080e+07, 0.00000000e+00, 0.00000000e+00],\n",
       "         [6.27947136e+08, 4.47509856e+08, 0.00000000e+00],\n",
       "         [0.00000000e+00, 0.00000000e+00, 0.00000000e+00],\n",
       "         ...,\n",
       "         [0.00000000e+00, 0.00000000e+00, 4.61384000e+08],\n",
       "         [0.00000000e+00, 0.00000000e+00, 4.76466720e+08],\n",
       "         [2.56256432e+08, 0.00000000e+00, 2.48923184e+08]],\n",
       "\n",
       "        [[4.39645824e+08, 0.00000000e+00, 3.91451744e+08],\n",
       "         [8.70308160e+08, 1.59248096e+08, 0.00000000e+00],\n",
       "         [2.38477680e+08, 0.00000000e+00, 2.75557360e+07],\n",
       "         ...,\n",
       "         [2.42951920e+08, 4.60294496e+08, 0.00000000e+00],\n",
       "         [3.81058432e+08, 0.00000000e+00, 4.60059104e+08],\n",
       "         [2.51973472e+08, 0.00000000e+00, 2.23329968e+08]]]],\n",
       "      dtype=float32)"
      ]
     },
     "execution_count": 141,
     "metadata": {},
     "output_type": "execute_result"
    }
   ],
   "source": [
    "sess.run(generate(Z),feed_dict={Z:sample_z(10,50)})"
   ]
  },
  {
   "cell_type": "code",
   "execution_count": 14,
   "metadata": {
    "scrolled": true
   },
   "outputs": [
    {
     "name": "stdout",
     "output_type": "stream",
     "text": [
      "0-> G : 5.529502\tD :0.09643677\n"
     ]
    },
    {
     "ename": "KeyboardInterrupt",
     "evalue": "",
     "output_type": "error",
     "traceback": [
      "\u001b[1;31m---------------------------------------------------------------------------\u001b[0m",
      "\u001b[1;31mKeyboardInterrupt\u001b[0m                         Traceback (most recent call last)",
      "\u001b[1;32m<ipython-input-14-f8c277ba4636>\u001b[0m in \u001b[0;36m<module>\u001b[1;34m()\u001b[0m\n\u001b[0;32m      7\u001b[0m     _, G_loss_curr = sess.run(\n\u001b[0;32m      8\u001b[0m         \u001b[1;33m[\u001b[0m\u001b[0mG_solver\u001b[0m\u001b[1;33m,\u001b[0m \u001b[0mG_loss\u001b[0m\u001b[1;33m]\u001b[0m\u001b[1;33m,\u001b[0m\u001b[1;33m\u001b[0m\u001b[0m\n\u001b[1;32m----> 9\u001b[1;33m         \u001b[0mfeed_dict\u001b[0m\u001b[1;33m=\u001b[0m\u001b[1;33m{\u001b[0m\u001b[0mZ\u001b[0m\u001b[1;33m:\u001b[0m \u001b[0mnoise\u001b[0m\u001b[1;33m}\u001b[0m\u001b[1;33m\u001b[0m\u001b[0m\n\u001b[0m\u001b[0;32m     10\u001b[0m     )\n\u001b[0;32m     11\u001b[0m     \u001b[0mprint\u001b[0m\u001b[1;33m(\u001b[0m\u001b[0mstr\u001b[0m\u001b[1;33m(\u001b[0m\u001b[0mi\u001b[0m\u001b[1;33m)\u001b[0m\u001b[1;33m+\u001b[0m\u001b[1;34m\"-> G : \"\u001b[0m\u001b[1;33m+\u001b[0m\u001b[0mstr\u001b[0m\u001b[1;33m(\u001b[0m\u001b[0mG_loss_curr\u001b[0m\u001b[1;33m)\u001b[0m\u001b[1;33m+\u001b[0m\u001b[1;34m\"\\tD :\"\u001b[0m\u001b[1;33m+\u001b[0m\u001b[0mstr\u001b[0m\u001b[1;33m(\u001b[0m\u001b[0mD_loss_curr\u001b[0m\u001b[1;33m)\u001b[0m\u001b[1;33m)\u001b[0m\u001b[1;33m\u001b[0m\u001b[0m\n",
      "\u001b[1;32m~\\Anaconda3\\lib\\site-packages\\tensorflow\\python\\client\\session.py\u001b[0m in \u001b[0;36mrun\u001b[1;34m(self, fetches, feed_dict, options, run_metadata)\u001b[0m\n\u001b[0;32m    898\u001b[0m     \u001b[1;32mtry\u001b[0m\u001b[1;33m:\u001b[0m\u001b[1;33m\u001b[0m\u001b[0m\n\u001b[0;32m    899\u001b[0m       result = self._run(None, fetches, feed_dict, options_ptr,\n\u001b[1;32m--> 900\u001b[1;33m                          run_metadata_ptr)\n\u001b[0m\u001b[0;32m    901\u001b[0m       \u001b[1;32mif\u001b[0m \u001b[0mrun_metadata\u001b[0m\u001b[1;33m:\u001b[0m\u001b[1;33m\u001b[0m\u001b[0m\n\u001b[0;32m    902\u001b[0m         \u001b[0mproto_data\u001b[0m \u001b[1;33m=\u001b[0m \u001b[0mtf_session\u001b[0m\u001b[1;33m.\u001b[0m\u001b[0mTF_GetBuffer\u001b[0m\u001b[1;33m(\u001b[0m\u001b[0mrun_metadata_ptr\u001b[0m\u001b[1;33m)\u001b[0m\u001b[1;33m\u001b[0m\u001b[0m\n",
      "\u001b[1;32m~\\Anaconda3\\lib\\site-packages\\tensorflow\\python\\client\\session.py\u001b[0m in \u001b[0;36m_run\u001b[1;34m(self, handle, fetches, feed_dict, options, run_metadata)\u001b[0m\n\u001b[0;32m   1133\u001b[0m     \u001b[1;32mif\u001b[0m \u001b[0mfinal_fetches\u001b[0m \u001b[1;32mor\u001b[0m \u001b[0mfinal_targets\u001b[0m \u001b[1;32mor\u001b[0m \u001b[1;33m(\u001b[0m\u001b[0mhandle\u001b[0m \u001b[1;32mand\u001b[0m \u001b[0mfeed_dict_tensor\u001b[0m\u001b[1;33m)\u001b[0m\u001b[1;33m:\u001b[0m\u001b[1;33m\u001b[0m\u001b[0m\n\u001b[0;32m   1134\u001b[0m       results = self._do_run(handle, final_targets, final_fetches,\n\u001b[1;32m-> 1135\u001b[1;33m                              feed_dict_tensor, options, run_metadata)\n\u001b[0m\u001b[0;32m   1136\u001b[0m     \u001b[1;32melse\u001b[0m\u001b[1;33m:\u001b[0m\u001b[1;33m\u001b[0m\u001b[0m\n\u001b[0;32m   1137\u001b[0m       \u001b[0mresults\u001b[0m \u001b[1;33m=\u001b[0m \u001b[1;33m[\u001b[0m\u001b[1;33m]\u001b[0m\u001b[1;33m\u001b[0m\u001b[0m\n",
      "\u001b[1;32m~\\Anaconda3\\lib\\site-packages\\tensorflow\\python\\client\\session.py\u001b[0m in \u001b[0;36m_do_run\u001b[1;34m(self, handle, target_list, fetch_list, feed_dict, options, run_metadata)\u001b[0m\n\u001b[0;32m   1314\u001b[0m     \u001b[1;32mif\u001b[0m \u001b[0mhandle\u001b[0m \u001b[1;32mis\u001b[0m \u001b[1;32mNone\u001b[0m\u001b[1;33m:\u001b[0m\u001b[1;33m\u001b[0m\u001b[0m\n\u001b[0;32m   1315\u001b[0m       return self._do_call(_run_fn, feeds, fetches, targets, options,\n\u001b[1;32m-> 1316\u001b[1;33m                            run_metadata)\n\u001b[0m\u001b[0;32m   1317\u001b[0m     \u001b[1;32melse\u001b[0m\u001b[1;33m:\u001b[0m\u001b[1;33m\u001b[0m\u001b[0m\n\u001b[0;32m   1318\u001b[0m       \u001b[1;32mreturn\u001b[0m \u001b[0mself\u001b[0m\u001b[1;33m.\u001b[0m\u001b[0m_do_call\u001b[0m\u001b[1;33m(\u001b[0m\u001b[0m_prun_fn\u001b[0m\u001b[1;33m,\u001b[0m \u001b[0mhandle\u001b[0m\u001b[1;33m,\u001b[0m \u001b[0mfeeds\u001b[0m\u001b[1;33m,\u001b[0m \u001b[0mfetches\u001b[0m\u001b[1;33m)\u001b[0m\u001b[1;33m\u001b[0m\u001b[0m\n",
      "\u001b[1;32m~\\Anaconda3\\lib\\site-packages\\tensorflow\\python\\client\\session.py\u001b[0m in \u001b[0;36m_do_call\u001b[1;34m(self, fn, *args)\u001b[0m\n\u001b[0;32m   1320\u001b[0m   \u001b[1;32mdef\u001b[0m \u001b[0m_do_call\u001b[0m\u001b[1;33m(\u001b[0m\u001b[0mself\u001b[0m\u001b[1;33m,\u001b[0m \u001b[0mfn\u001b[0m\u001b[1;33m,\u001b[0m \u001b[1;33m*\u001b[0m\u001b[0margs\u001b[0m\u001b[1;33m)\u001b[0m\u001b[1;33m:\u001b[0m\u001b[1;33m\u001b[0m\u001b[0m\n\u001b[0;32m   1321\u001b[0m     \u001b[1;32mtry\u001b[0m\u001b[1;33m:\u001b[0m\u001b[1;33m\u001b[0m\u001b[0m\n\u001b[1;32m-> 1322\u001b[1;33m       \u001b[1;32mreturn\u001b[0m \u001b[0mfn\u001b[0m\u001b[1;33m(\u001b[0m\u001b[1;33m*\u001b[0m\u001b[0margs\u001b[0m\u001b[1;33m)\u001b[0m\u001b[1;33m\u001b[0m\u001b[0m\n\u001b[0m\u001b[0;32m   1323\u001b[0m     \u001b[1;32mexcept\u001b[0m \u001b[0merrors\u001b[0m\u001b[1;33m.\u001b[0m\u001b[0mOpError\u001b[0m \u001b[1;32mas\u001b[0m \u001b[0me\u001b[0m\u001b[1;33m:\u001b[0m\u001b[1;33m\u001b[0m\u001b[0m\n\u001b[0;32m   1324\u001b[0m       \u001b[0mmessage\u001b[0m \u001b[1;33m=\u001b[0m \u001b[0mcompat\u001b[0m\u001b[1;33m.\u001b[0m\u001b[0mas_text\u001b[0m\u001b[1;33m(\u001b[0m\u001b[0me\u001b[0m\u001b[1;33m.\u001b[0m\u001b[0mmessage\u001b[0m\u001b[1;33m)\u001b[0m\u001b[1;33m\u001b[0m\u001b[0m\n",
      "\u001b[1;32m~\\Anaconda3\\lib\\site-packages\\tensorflow\\python\\client\\session.py\u001b[0m in \u001b[0;36m_run_fn\u001b[1;34m(feed_dict, fetch_list, target_list, options, run_metadata)\u001b[0m\n\u001b[0;32m   1305\u001b[0m       \u001b[0mself\u001b[0m\u001b[1;33m.\u001b[0m\u001b[0m_extend_graph\u001b[0m\u001b[1;33m(\u001b[0m\u001b[1;33m)\u001b[0m\u001b[1;33m\u001b[0m\u001b[0m\n\u001b[0;32m   1306\u001b[0m       return self._call_tf_sessionrun(\n\u001b[1;32m-> 1307\u001b[1;33m           options, feed_dict, fetch_list, target_list, run_metadata)\n\u001b[0m\u001b[0;32m   1308\u001b[0m \u001b[1;33m\u001b[0m\u001b[0m\n\u001b[0;32m   1309\u001b[0m     \u001b[1;32mdef\u001b[0m \u001b[0m_prun_fn\u001b[0m\u001b[1;33m(\u001b[0m\u001b[0mhandle\u001b[0m\u001b[1;33m,\u001b[0m \u001b[0mfeed_dict\u001b[0m\u001b[1;33m,\u001b[0m \u001b[0mfetch_list\u001b[0m\u001b[1;33m)\u001b[0m\u001b[1;33m:\u001b[0m\u001b[1;33m\u001b[0m\u001b[0m\n",
      "\u001b[1;32m~\\Anaconda3\\lib\\site-packages\\tensorflow\\python\\client\\session.py\u001b[0m in \u001b[0;36m_call_tf_sessionrun\u001b[1;34m(self, options, feed_dict, fetch_list, target_list, run_metadata)\u001b[0m\n\u001b[0;32m   1407\u001b[0m       return tf_session.TF_SessionRun_wrapper(\n\u001b[0;32m   1408\u001b[0m           \u001b[0mself\u001b[0m\u001b[1;33m.\u001b[0m\u001b[0m_session\u001b[0m\u001b[1;33m,\u001b[0m \u001b[0moptions\u001b[0m\u001b[1;33m,\u001b[0m \u001b[0mfeed_dict\u001b[0m\u001b[1;33m,\u001b[0m \u001b[0mfetch_list\u001b[0m\u001b[1;33m,\u001b[0m \u001b[0mtarget_list\u001b[0m\u001b[1;33m,\u001b[0m\u001b[1;33m\u001b[0m\u001b[0m\n\u001b[1;32m-> 1409\u001b[1;33m           run_metadata)\n\u001b[0m\u001b[0;32m   1410\u001b[0m     \u001b[1;32melse\u001b[0m\u001b[1;33m:\u001b[0m\u001b[1;33m\u001b[0m\u001b[0m\n\u001b[0;32m   1411\u001b[0m       \u001b[1;32mwith\u001b[0m \u001b[0merrors\u001b[0m\u001b[1;33m.\u001b[0m\u001b[0mraise_exception_on_not_ok_status\u001b[0m\u001b[1;33m(\u001b[0m\u001b[1;33m)\u001b[0m \u001b[1;32mas\u001b[0m \u001b[0mstatus\u001b[0m\u001b[1;33m:\u001b[0m\u001b[1;33m\u001b[0m\u001b[0m\n",
      "\u001b[1;31mKeyboardInterrupt\u001b[0m: "
     ]
    }
   ],
   "source": [
    "for i in range(2000):\n",
    "    noise = sample_z(5, 50)\n",
    "    _, D_loss_curr, _ = sess.run(\n",
    "            [D_solver, D_loss, clip_D],\n",
    "            feed_dict={X: images[55:60], Z: noise}\n",
    "        )\n",
    "    _, G_loss_curr = sess.run(\n",
    "        [G_solver, G_loss],\n",
    "        feed_dict={Z: noise}\n",
    "    )\n",
    "    print(str(i)+\"-> G : \"+str(G_loss_curr)+\"\\tD :\"+str(D_loss_curr))"
   ]
  },
  {
   "cell_type": "code",
   "execution_count": 34,
   "metadata": {},
   "outputs": [
    {
     "name": "stdout",
     "output_type": "stream",
     "text": [
      "12910.79\n",
      "1625.1039\n"
     ]
    }
   ],
   "source": [
    "print(G_loss_curr)\n",
    "print(D_loss_curr)"
   ]
  },
  {
   "cell_type": "code",
   "execution_count": 16,
   "metadata": {},
   "outputs": [],
   "source": [
    "samples = sess.run(G_sample, feed_dict={Z:\n",
    "                                        sample_z(5, 50)})\n",
    "for i in range(5):\n",
    "    windowUp(samples[i])"
   ]
  },
  {
   "cell_type": "code",
   "execution_count": 15,
   "metadata": {},
   "outputs": [],
   "source": [
    "def windowUp(arr):\n",
    "    import cv2\n",
    "    frame = cv2.cvtColor(np.array(arr), cv2.COLOR_BGR2RGB)\n",
    "    cv2.imshow(\"test\", frame)\n",
    "    cv2.waitKey(0)\n",
    "    cv2.destroyAllWindows()\n"
   ]
  },
  {
   "cell_type": "code",
   "execution_count": 79,
   "metadata": {},
   "outputs": [],
   "source": []
  },
  {
   "cell_type": "code",
   "execution_count": null,
   "metadata": {},
   "outputs": [],
   "source": []
  }
 ],
 "metadata": {
  "kernelspec": {
   "display_name": "Python 3",
   "language": "python",
   "name": "python3"
  },
  "language_info": {
   "codemirror_mode": {
    "name": "ipython",
    "version": 3
   },
   "file_extension": ".py",
   "mimetype": "text/x-python",
   "name": "python",
   "nbconvert_exporter": "python",
   "pygments_lexer": "ipython3",
   "version": "3.6.5"
  }
 },
 "nbformat": 4,
 "nbformat_minor": 2
}
